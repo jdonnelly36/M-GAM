{
 "cells": [
  {
   "cell_type": "code",
   "execution_count": 38,
   "metadata": {},
   "outputs": [],
   "source": [
    "import pandas as pd\n",
    "import numpy as np\n",
    "import fastsparsegams\n",
    "df = pd.read_csv('./pharyngitis.csv')"
   ]
  },
  {
   "cell_type": "code",
   "execution_count": 40,
   "metadata": {},
   "outputs": [],
   "source": [
    "from sklearn.model_selection import train_test_split\n",
    "df = df.drop('number', axis=1)\n",
    "train_df, test_df = train_test_split(df, test_size=0.2, random_state=0, stratify=df['radt'])"
   ]
  },
  {
   "cell_type": "code",
   "execution_count": 41,
   "metadata": {},
   "outputs": [
    {
     "data": {
      "text/plain": [
       "array([ 0.,  1.,  2.,  3., nan])"
      ]
     },
     "execution_count": 41,
     "metadata": {},
     "output_type": "execute_result"
    }
   ],
   "source": [
    "train_df['swollenadp'].sort_values().unique()"
   ]
  },
  {
   "cell_type": "code",
   "execution_count": 42,
   "metadata": {},
   "outputs": [],
   "source": [
    "def binarize_according_to_train(train_df, test_df):\n",
    "    n_train, d_train = train_df.shape\n",
    "    n_test, d_test = test_df.shape\n",
    "    train_binned, train_augmented_binned, test_binned, test_augmented_binned = {}, {}, {}, {}\n",
    "    for c in train_df.columns:\n",
    "        if c == 'radt':\n",
    "            continue\n",
    "        for v in train_df[c].sort_values().unique():\n",
    "            if np.isnan(v):\n",
    "                new_col_name = f'{c} missing'\n",
    "\n",
    "                new_row_train = np.zeros(n_train)\n",
    "                new_row_train[train_df[c].isna()] = 1\n",
    "                train_binned[new_col_name] = new_row_train\n",
    "                train_augmented_binned[new_col_name] = new_row_train\n",
    "                \n",
    "                new_row_test = np.zeros(n_test)\n",
    "                new_row_test[test_df[c].isna()] = 1\n",
    "                test_binned[new_col_name] = new_row_test\n",
    "                test_augmented_binned[new_col_name] = new_row_test\n",
    "            else:\n",
    "                new_col_name = f'{c} <= {v}'\n",
    "\n",
    "                new_row_train = np.zeros(n_train)\n",
    "                new_row_train[train_df[c] <= v] = 1\n",
    "                train_binned[new_col_name] = new_row_train\n",
    "                train_augmented_binned[new_col_name] = new_row_train\n",
    "                \n",
    "                new_row_test = np.zeros(n_test)\n",
    "                new_row_test[test_df[c] <= v] = 1\n",
    "                test_binned[new_col_name] = new_row_test\n",
    "                test_augmented_binned[new_col_name] = new_row_test\n",
    "    \n",
    "    for c_outer in train_df.columns:\n",
    "        if c_outer == 'radt':\n",
    "            continue\n",
    "        for c_inner in train_df.columns:\n",
    "            for v in train_df[c_inner].sort_values().unique():\n",
    "                if np.isnan(v) or c_inner == 'radt':\n",
    "                    continue\n",
    "                else:\n",
    "                    new_col_name = f'{c_outer}_missing & {c_inner} <= {v}'\n",
    "\n",
    "                    new_row_train = np.zeros(n_train)\n",
    "                    new_row_train[(train_df[c_outer].isna()) & (train_df[c_inner] <= v)] = 1\n",
    "                    train_augmented_binned[new_col_name] = new_row_train\n",
    "\n",
    "                    new_row_test = np.zeros(n_test)\n",
    "                    new_row_test[(test_df[c_outer].isna()) & (test_df[c_inner] <= v)] = 1\n",
    "                    test_augmented_binned[new_col_name] = new_row_test\n",
    "    train_binned['radt'] = train_df['radt']\n",
    "    test_binned['radt'] = test_df['radt']\n",
    "    train_augmented_binned['radt'] = train_df['radt']\n",
    "    test_augmented_binned['radt'] = test_df['radt']\n",
    "    return pd.DataFrame(train_binned), pd.DataFrame(train_augmented_binned), \\\n",
    "         pd.DataFrame(test_binned), pd.DataFrame(test_augmented_binned)"
   ]
  },
  {
   "cell_type": "code",
   "execution_count": 43,
   "metadata": {},
   "outputs": [],
   "source": [
    "train_binned, train_binned_augmented, test_binned, test_binned_augmented = binarize_according_to_train(train_df, test_df)\n",
    "\n",
    "X_indicator_train = train_binned[train_binned.columns[:-1]].values\n",
    "y_train = train_binned['radt'].values\n",
    "\n",
    "X_indicator_test = test_binned[test_binned.columns[:-1]].values\n",
    "y_test = test_binned['radt'].values\n",
    "\n",
    "X_aug_train = train_binned_augmented[train_binned_augmented.columns[:-1]].values\n",
    "\n",
    "X_aug_test = test_binned_augmented[test_binned_augmented.columns[:-1]].values"
   ]
  },
  {
   "cell_type": "code",
   "execution_count": 44,
   "metadata": {},
   "outputs": [
    {
     "data": {
      "text/plain": [
       "(136, 184)"
      ]
     },
     "execution_count": 44,
     "metadata": {},
     "output_type": "execute_result"
    }
   ],
   "source": [
    "X_indicator_test.shape"
   ]
  },
  {
   "cell_type": "code",
   "execution_count": 51,
   "metadata": {},
   "outputs": [],
   "source": [
    "model_indicator = fastsparsegams.fit(\n",
    "    X_indicator_train.astype(float), y_train.astype(int)*2 - 1, loss=\"Exponential\", max_support_size=40, algorithm=\"CDPSI\"\n",
    ")"
   ]
  },
  {
   "cell_type": "code",
   "execution_count": 52,
   "metadata": {},
   "outputs": [],
   "source": [
    "model_aug = fastsparsegams.fit(\n",
    "    X_aug_train.astype(float), y_train.astype(int)*2 - 1, loss=\"Exponential\", max_support_size=40, algorithm=\"CDPSI\"\n",
    ")"
   ]
  },
  {
   "cell_type": "code",
   "execution_count": 53,
   "metadata": {},
   "outputs": [],
   "source": [
    "#recover coefficients and train/test probabilities\n",
    "def eval_model(model, X_train, X_test): \n",
    "    coeffs = np.zeros((len(model.lambda_0[0]), X_train.shape[1]))\n",
    "    train_probs = np.zeros((len(model.lambda_0[0]), X_train.shape[0]))\n",
    "    test_probs = np.zeros((len(model.lambda_0[0]), X_test.shape[0]))\n",
    "\n",
    "    for i, lamby in enumerate(model.lambda_0[0]): \n",
    "        train_probs[i] = model.predict(X_train.astype(float),lambda_0=lamby).reshape(-1)\n",
    "        test_probs[i] = model.predict(X_test.astype(float),lambda_0=lamby).reshape(-1)\n",
    "\n",
    "        coeffs[i] = (model.coeff(lambda_0=lamby).toarray().flatten())[1:] #first entry is intercept\n",
    "    return train_probs, test_probs, coeffs"
   ]
  },
  {
   "cell_type": "code",
   "execution_count": 54,
   "metadata": {},
   "outputs": [],
   "source": [
    "train_probs_aug, test_probs_aug, coeff_aug = eval_model(model_aug, X_aug_train, X_aug_test)\n",
    "trainacc_aug = ((train_probs_aug > 0.5) == y_train).mean(axis = 1)\n",
    "testacc_aug = ((test_probs_aug > 0.5) == y_test).mean(axis = 1)\n",
    "num_terms_aug = (coeff_aug != 0).sum(axis=1)"
   ]
  },
  {
   "cell_type": "code",
   "execution_count": 55,
   "metadata": {},
   "outputs": [],
   "source": [
    "train_probs_indicator, test_probs_indicator, coeff_indicator = eval_model(model_indicator, X_indicator_train, X_indicator_test)\n",
    "trainacc_indicator = ((train_probs_indicator > 0.5) == y_train).mean(axis=1)\n",
    "testacc_indicator = ((test_probs_indicator > 0.5) == y_test).mean(axis=1)\n",
    "num_terms_indicator = (coeff_indicator != 0).sum(axis=1)"
   ]
  },
  {
   "cell_type": "code",
   "execution_count": 62,
   "metadata": {},
   "outputs": [
    {
     "data": {
      "text/plain": [
       "<matplotlib.legend.Legend at 0x7ffabcaac130>"
      ]
     },
     "execution_count": 62,
     "metadata": {},
     "output_type": "execute_result"
    },
    {
     "data": {
      "image/png": "[encoded data removed]",
      "text/plain": [
       "<Figure size 640x480 with 1 Axes>"
      ]
     },
     "metadata": {},
     "output_type": "display_data"
    }
   ],
   "source": [
    "from matplotlib import pyplot as plt\n",
    "from matplotlib.ticker import MaxNLocator\n",
    "ax = plt.figure().gca()\n",
    "ax.xaxis.set_major_locator(MaxNLocator(integer=True))\n",
    "\n",
    "plt.title('Test Accuracy vs # Nonzero Coefficients')#\\n (Other than intercept)\n",
    "plt.plot(num_terms_aug[num_terms_aug > 0], testacc_aug[num_terms_aug > 0], label='test accuracy, interaction')\n",
    "plt.plot(num_terms_indicator[num_terms_indicator > 0], testacc_indicator[num_terms_indicator > 0], label='test accuracy, only indicator')\n",
    "plt.ylabel('Classification Accuracy')\n",
    "plt.xlabel('# Nonzero coefficients')\n",
    "\n",
    "plt.legend()"
   ]
  },
  {
   "cell_type": "code",
   "execution_count": 60,
   "metadata": {},
   "outputs": [
    {
     "data": {
      "text/plain": [
       "Index(['age_y <= 4.1', 'age_y <= 10.6', 'swollenadp <= 0.0', 'tender <= 0.0',\n",
       "       'tonsillarswelling <= 0.0', 'exudate <= 0.0', 'temperature <= 38.0',\n",
       "       'temperature <= 39.5', 'cough <= 0.0', 'petechiae <= 0.0',\n",
       "       'abdopain <= 0.0', 'nauseavomit <= 0.0', 'scarlet <= 0.0',\n",
       "       'cough_missing & temperature <= 38.9',\n",
       "       'petechiae_missing & conjunctivitis <= 0.0'],\n",
       "      dtype='object')"
      ]
     },
     "execution_count": 60,
     "metadata": {},
     "output_type": "execute_result"
    }
   ],
   "source": [
    "train_binned_augmented.columns[:-1][abs(model_aug.coeff(lambda_0=0.6).toarray().flatten()[1:]) > 0]"
   ]
  },
  {
   "cell_type": "code",
   "execution_count": 19,
   "metadata": {},
   "outputs": [
    {
     "data": {
      "text/plain": [
       "(540, 14195)"
      ]
     },
     "execution_count": 19,
     "metadata": {},
     "output_type": "execute_result"
    }
   ],
   "source": [
    "\n",
    "X_aug_train.shape"
   ]
  },
  {
   "cell_type": "code",
   "execution_count": null,
   "metadata": {},
   "outputs": [],
   "source": []
  }
 ],
 "metadata": {
  "kernelspec": {
   "display_name": "missing_data",
   "language": "python",
   "name": "missing_data"
  },
  "language_info": {
   "codemirror_mode": {
    "name": "ipython",
    "version": 3
   },
   "file_extension": ".py",
   "mimetype": "text/x-python",
   "name": "python",
   "nbconvert_exporter": "python",
   "pygments_lexer": "ipython3",
   "version": "3.10.6"
  },
  "orig_nbformat": 4
 },
 "nbformat": 4,
 "nbformat_minor": 2
}
