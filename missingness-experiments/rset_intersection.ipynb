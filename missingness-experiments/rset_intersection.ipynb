{
 "cells": [
  {
   "cell_type": "code",
   "execution_count": null,
   "metadata": {},
   "outputs": [],
   "source": [
    "import json\n",
    "import os\n",
    "import subprocess\n",
    "import numpy as np\n",
    "from treefarms import TREEFARMS\n",
    "\n",
    "def construct_tree_rset(\n",
    "    df,\n",
    "    lam, db, eps,\n",
    "    original_config_path='./config.json',\n",
    "    save_dir=None,\n",
    "    config_idx=None,\n",
    "    verbose=False\n",
    "    ):\n",
    "    if verbose:\n",
    "        print(\"save_dir: {}\".format(save_dir))\n",
    "        print(\"config_idx: {}\".format(config_idx))\n",
    "\n",
    "    with open(original_config_path) as f:\n",
    "        configJson = json.load(f)\n",
    "        configJson['depth_budget'] = db\n",
    "\n",
    "        configJson['rashomon_bound_multiplier'] = 0\n",
    "        configJson['rashomon_bound'] = 0\n",
    "        configJson['rashomon_bound_adder'] = eps\n",
    "\n",
    "        configJson['regularization'] = lam\n",
    "        \n",
    "        configJson['rashomon_trie'] = os.path.join(save_dir, \n",
    "                                        f'trie_bootstrap_{config_idx}_eps_{eps}_db_{db}_reg_{lam}.json')\n",
    "        #configJson['rashomon_model_set_suffix'] = f'_bootstrap_{config_idx}_eps_{eps}_db_{db}_reg_{lam}.json'\n",
    "        configJson['verbose'] = verbose\n",
    "\n",
    "        tf = TREEFARMS(configJson)\n",
    "    f.close()\n",
    "    \n",
    "    tf.fit(df.iloc[:, :-1], df.iloc[:, -1])"
   ]
  },
  {
   "cell_type": "code",
   "execution_count": null,
   "metadata": {},
   "outputs": [],
   "source": [
    "import pandas as pd\n",
    "df = pd.read_csv('fico_full.csv')\n",
    "\n",
    "from sklearn.model_selection import train_test_split\n",
    "train_df, test_df = train_test_split(df, test_size=0.2, random_state=20, stratify=df['PoorRiskPerformance'])"
   ]
  },
  {
   "cell_type": "code",
   "execution_count": null,
   "metadata": {},
   "outputs": [],
   "source": [
    "def binarize_and_split_according_to_train(train_df, test_df):\n",
    "    thresholds = []\n",
    "    for c in train_df.columns:\n",
    "        if c == 'PoorRiskPerformance':\n",
    "            continue\n",
    "        # We should change this to not compute quantiles over negative values\n",
    "        thresholds.append(train_df[c].quantile([0.2, 0.4, 0.6, 0.8, 1]).unique())\n",
    "\n",
    "    train_df_x = train_df.iloc[:, :-1]\n",
    "    missingness_patterns = np.unique((train_df_x > 0), axis=0)\n",
    "    missingness_datasets = []\n",
    "    full_train = None\n",
    "    for i in range(missingness_patterns.shape[0]): \n",
    "        cur_df = train_df[((train_df_x > 0) == missingness_patterns[i].reshape((1, -1)).repeat(train_df_x.shape[0], axis=0)).all(axis=1)]\n",
    "        \n",
    "        if missingness_patterns[i].mean() == 1:\n",
    "            full_train = cur_df\n",
    "        elif missingness_patterns[i].mean() == 0:\n",
    "            continue\n",
    "        else:\n",
    "            missingness_datasets.append(cur_df)\n",
    "\n",
    "    datasets = []\n",
    "    for dataset in [full_train] + missingness_datasets + [test_df]:\n",
    "        cur_dataset_binned = {}\n",
    "        for i, c in enumerate(train_df.columns):\n",
    "            if c == 'PoorRiskPerformance':\n",
    "                continue\n",
    "            for v in thresholds[i] + [-1]:\n",
    "                new_col_name = f'{c} <= {v}'\n",
    "\n",
    "                new_row_train = np.zeros(dataset.shape[0])\n",
    "                new_row_train[dataset[c] <= v] = 1\n",
    "\n",
    "                cur_dataset_binned[new_col_name] = new_row_train\n",
    "\n",
    "        cur_dataset_binned['PoorRiskPerformance'] = dataset['PoorRiskPerformance']\n",
    "        datasets.append(pd.DataFrame(cur_dataset_binned))\n",
    "\n",
    "    return datasets[0], datasets[1:-1], datasets[-1]"
   ]
  },
  {
   "cell_type": "code",
   "execution_count": null,
   "metadata": {},
   "outputs": [],
   "source": [
    "full_train, partial_trains, full_test = binarize_and_split_according_to_train(train_df, test_df)"
   ]
  },
  {
   "cell_type": "code",
   "execution_count": null,
   "metadata": {},
   "outputs": [],
   "source": [
    "for i in partial_trains[0].columns:\n",
    "    print(partial_trains[0][i].unique())"
   ]
  },
  {
   "cell_type": "code",
   "execution_count": null,
   "metadata": {},
   "outputs": [],
   "source": [
    "import os\n",
    "#os.makedirs('./experiments/datasets/fico/')\n",
    "construct_tree_rset(\n",
    "    full_train,\n",
    "    0.05, 3, 0.05,\n",
    "    original_config_path='./config.json',\n",
    "    save_dir='./experiments/datasets/fico',\n",
    "    config_idx='full',\n",
    "    verbose=True\n",
    ")"
   ]
  },
  {
   "cell_type": "code",
   "execution_count": null,
   "metadata": {},
   "outputs": [],
   "source": [
    "\n",
    "for i, df in enumerate(partial_trains):\n",
    "    construct_tree_rset(\n",
    "        partial_trains[i],\n",
    "        0.05, 3, 0.05,\n",
    "        original_config_path='../Rashomon-Set-for-Trees/config.json',\n",
    "        save_dir='./experiments/datasets/fico',\n",
    "        config_idx=f'{i}',\n",
    "        verbose=False\n",
    "    )"
   ]
  },
  {
   "cell_type": "code",
   "execution_count": null,
   "metadata": {},
   "outputs": [],
   "source": [
    "t1 = './experiments/datasets/fico/trie_bootstrap_full_eps_0.05_db_3_reg_0.05.json'\n",
    "t2 = './experiments/datasets/fico/trie_bootstrap_5_eps_0.05_db_3_reg_0.05.json'"
   ]
  },
  {
   "cell_type": "code",
   "execution_count": 11,
   "metadata": {},
   "outputs": [
    {
     "name": "stdout",
     "output_type": "stream",
     "text": [
      "12 {'9': {'21 -2': {'-2 -1': {'t1_loss': 0.25, 't2_loss': 0.0, 't1_complexity': 0.15000000596046448, 't2_complexity': 0.15000000596046448, 't1_objective': 0.4000000059604645, 't2_objective': 0.15000000596046448}}}, '21': {'-2 9': {'-1 -2': {'t1_loss': 0.25, 't2_loss': 0.0, 't1_complexity': 0.15000000596046448, 't2_complexity': 0.15000000596046448, 't1_objective': 0.4000000059604645, 't2_objective': 0.15000000596046448}}}}\n"
     ]
    }
   ],
   "source": [
    "import json\n",
    "from treefarms.model.model_set import ModelSetContainer\n",
    "for i in [12]:\n",
    "    t1 = './experiments/datasets/fico/trie_bootstrap_full_eps_0.05_db_3_reg_0.05.json'\n",
    "    t2 = f'./experiments/datasets/fico/trie_bootstrap_{i}_eps_0.05_db_3_reg_0.05.json'\n",
    "    with open(t1) as f1:\n",
    "        with open(t2) as f2:\n",
    "            trie_1 = json.load(f1)\n",
    "            trie_2 = json.load(f2)\n",
    "\n",
    "    print(i, trie_intersect_recursive(trie_1, trie_2))\n",
    "    "
   ]
  },
  {
   "cell_type": "code",
   "execution_count": null,
   "metadata": {},
   "outputs": [],
   "source": [
    "trie_2"
   ]
  },
  {
   "cell_type": "code",
   "execution_count": null,
   "metadata": {},
   "outputs": [],
   "source": [
    "def trie_intersect_recursive(t1, t2):\n",
    "    t1_keys = set(t1.keys())\n",
    "    t2_keys = set(t2.keys())\n",
    "\n",
    "    shared_keys = t1_keys.intersection(t2_keys)\n",
    "\n",
    "    result = {}\n",
    "    if 'loss' in shared_keys:\n",
    "        for key in ['loss', 'complexity', 'objective']:\n",
    "            result[f't1_{key}'] = t1[key]\n",
    "            result[f't2_{key}'] = t2[key]\n",
    "        return result\n",
    "\n",
    "    for key in shared_keys:\n",
    "        tmp_res = trie_intersect_recursive(t1[key], t2[key])\n",
    "\n",
    "        # If there ar intersecting subtries\n",
    "        if len(list(tmp_res.keys())) > 0:\n",
    "            result[key] = tmp_res\n",
    "        \n",
    "    return result\n",
    "\n"
   ]
  },
  {
   "cell_type": "code",
   "execution_count": null,
   "metadata": {},
   "outputs": [],
   "source": [
    "\n",
    "trie_intersect_recursive(trie_1, trie_2)"
   ]
  },
  {
   "cell_type": "code",
   "execution_count": 14,
   "metadata": {},
   "outputs": [
    {
     "data": {
      "text/plain": [
       "Index(['ExternalRiskEstimate <= 93.0', 'AverageMInFile <= 65.0'], dtype='object')"
      ]
     },
     "execution_count": 14,
     "metadata": {},
     "output_type": "execute_result"
    }
   ],
   "source": [
    "partial_trains[12].columns[[9, 21]]"
   ]
  },
  {
   "cell_type": "code",
   "execution_count": 17,
   "metadata": {},
   "outputs": [
    {
     "data": {
      "text/plain": [
       "<Axes: >"
      ]
     },
     "execution_count": 17,
     "metadata": {},
     "output_type": "execute_result"
    },
    {
     "data": {
      "image/png": "[encoded data removed]",
      "text/plain": [
       "<Figure size 640x480 with 1 Axes>"
      ]
     },
     "metadata": {},
     "output_type": "display_data"
    }
   ],
   "source": [
    "train_df['AverageMInFile'].hist()"
   ]
  },
  {
   "cell_type": "code",
   "execution_count": null,
   "metadata": {},
   "outputs": [],
   "source": []
  }
 ],
 "metadata": {
  "interpreter": {
   "hash": "97523d6d1cde124460ec5b2267a1ee9da83b236293ee79f3c0c0016a03f0dab9"
  },
  "kernelspec": {
   "display_name": "missing_data",
   "language": "python",
   "name": "python3"
  },
  "language_info": {
   "codemirror_mode": {
    "name": "ipython",
    "version": 3
   },
   "file_extension": ".py",
   "mimetype": "text/x-python",
   "name": "python",
   "nbconvert_exporter": "python",
   "pygments_lexer": "ipython3",
   "version": "3.10.12"
  }
 },
 "nbformat": 4,
 "nbformat_minor": 2
}
