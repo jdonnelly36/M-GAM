{
 "cells": [
  {
   "cell_type": "code",
   "execution_count": 1,
   "metadata": {},
   "outputs": [],
   "source": [
    "import pandas as pd\n",
    "import numpy as np"
   ]
  },
  {
   "cell_type": "code",
   "execution_count": 42,
   "metadata": {},
   "outputs": [],
   "source": [
    "# prefix = f'MIMIC_MAR_25/noreg/distinctness_False_False_True_True/impute_MIWAE/100/MIWAE/imputation_ensemble_test_acc'\n",
    "# prefix = f'MIMIC_MAR_50/noreg/distinctness_False_False_True_True/impute_MissForest/100/MissForest/imputation_ensemble_test_acc'\n",
    "# prefix = f'MIMIC_MAR_50/noreg/distinctness_False_False_True_True/impute_MICE/100/imputation_ensemble_test_acc'\n",
    "\n",
    "\n",
    "# prefix = f'MIMIC_MAR_25/noreg/distinctness_False_False_True_True/impute_MIWAE/100/MIWAE/imputation_ensemble_train_acc'\n",
    "# prefix = f'MIMIC_MAR_50/noreg/distinctness_False_False_True_True/impute_MissForest/100/MissForest/imputation_ensemble_train_acc'\n",
    "prefix = f'MIMIC_MAR_50/noreg/distinctness_False_False_True_True/impute_MICE/100/imputation_ensemble_train_acc'\n"
   ]
  },
  {
   "cell_type": "code",
   "execution_count": 43,
   "metadata": {},
   "outputs": [],
   "source": [
    "def get_holdout_val(num, prefix=prefix):\n",
    "    string = f'{prefix}_[{num}].csv'\n",
    "    df = pd.read_csv(string, header=None)\n",
    "    # return df\n",
    "    return df.iloc[0,0]"
   ]
  },
  {
   "cell_type": "code",
   "execution_count": 44,
   "metadata": {},
   "outputs": [],
   "source": [
    "final = np.zeros((5, 10))"
   ]
  },
  {
   "cell_type": "code",
   "execution_count": 45,
   "metadata": {},
   "outputs": [],
   "source": [
    "for i in range(10): \n",
    "    final[0][i] = get_holdout_val(i)"
   ]
  },
  {
   "cell_type": "code",
   "execution_count": 46,
   "metadata": {},
   "outputs": [],
   "source": [
    "np.savetxt(f'{prefix}.csv', final)"
   ]
  },
  {
   "cell_type": "code",
   "execution_count": null,
   "metadata": {},
   "outputs": [],
   "source": []
  }
 ],
 "metadata": {
  "kernelspec": {
   "display_name": "fastsparsebuild",
   "language": "python",
   "name": "python3"
  },
  "language_info": {
   "codemirror_mode": {
    "name": "ipython",
    "version": 3
   },
   "file_extension": ".py",
   "mimetype": "text/x-python",
   "name": "python",
   "nbconvert_exporter": "python",
   "pygments_lexer": "ipython3",
   "version": "3.10.12"
  }
 },
 "nbformat": 4,
 "nbformat_minor": 2
}
